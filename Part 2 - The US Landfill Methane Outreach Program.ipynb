{
 "cells": [
  {
   "cell_type": "markdown",
   "metadata": {},
   "source": [
    "# Waste Processing and Greenhouse Gas Emissions in the United States"
   ]
  },
  {
   "cell_type": "markdown",
   "metadata": {},
   "source": [
    "## Part 2 - The US Landfill Methane Outreach Program"
   ]
  },
  {
   "cell_type": "markdown",
   "metadata": {},
   "source": [
    "### About this document\n",
    "Author: **William Nicholas**, Indiana University O'Neill School of Public and Environmental Affairs\n",
    "\n",
    "This document is part two of a three-part series of analyses on waste processing and greenhouse gas emissions in the United States published through OneAU.\n",
    "\n",
    "Data came from the US EPA via the [Landfill Methane Outreach Program](https://www.epa.gov/lmop/project-and-landfill-data-state), the [GHG Reporting Program](https://www.epa.gov/ghgreporting/ghg-reporting-program-data-sets), the [Materials, Waste, and Recycling Program](https://www.epa.gov/facts-and-figures-about-materials-waste-and-recycling/advancing-sustainable-materials-management) and the [US Census Bureau](https://www.census.gov/data/tables/time-series/demo/popest/2010s-total-cities-and-towns.html#tables). In the event this data is removed by the Agency, archived copies can be found on [GitHub](https://www.github.com/wiljnich/lmop-data) or through the [Environmental Data & Governance Initiative](https://envirodatagov.org/archiving/)"
   ]
  },
  {
   "cell_type": "markdown",
   "metadata": {},
   "source": [
    "#### Introduction - Summary of Waste Production in the US"
   ]
  },
  {
   "cell_type": "markdown",
   "metadata": {},
   "source": [
    "#### The US EPA and the Landfill Methane Outreach Program"
   ]
  },
  {
   "cell_type": "markdown",
   "metadata": {},
   "source": [
    "#### LMOP Project Models"
   ]
  },
  {
   "cell_type": "markdown",
   "metadata": {},
   "source": [
    "#### Regional Trends in Landfill Methane Reduction"
   ]
  },
  {
   "cell_type": "markdown",
   "metadata": {},
   "source": [
    "#### Impact of the LMOP on Overall Waste Emissions"
   ]
  },
  {
   "cell_type": "markdown",
   "metadata": {},
   "source": [
    "#### Conclusion\n",
    "\n",
    "Include Plotly Dash"
   ]
  }
 ],
 "metadata": {
  "kernelspec": {
   "display_name": "Python 3",
   "language": "python",
   "name": "python3"
  },
  "language_info": {
   "codemirror_mode": {
    "name": "ipython",
    "version": 3
   },
   "file_extension": ".py",
   "mimetype": "text/x-python",
   "name": "python",
   "nbconvert_exporter": "python",
   "pygments_lexer": "ipython3",
   "version": "3.7.1"
  }
 },
 "nbformat": 4,
 "nbformat_minor": 2
}
